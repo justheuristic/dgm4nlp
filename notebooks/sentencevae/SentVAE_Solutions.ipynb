{
  "nbformat": 4,
  "nbformat_minor": 0,
  "metadata": {
    "colab": {
      "name": "SentVAE_Solutions.ipynb",
      "version": "0.3.2",
      "provenance": [],
      "include_colab_link": true
    },
    "kernelspec": {
      "display_name": "Python 3",
      "language": "python",
      "name": "python3"
    }
  },
  "cells": [
    {
      "cell_type": "markdown",
      "metadata": {
        "id": "view-in-github",
        "colab_type": "text"
      },
      "source": [
        "<a href=\"https://colab.research.google.com/github/probabll/dgm4nlp/blob/solutions/notebooks/sentencevae/SentVAE_Solutions.ipynb\" target=\"_parent\"><img src=\"https://colab.research.google.com/assets/colab-badge.svg\" alt=\"Open In Colab\"/></a>"
      ]
    },
    {
      "metadata": {
        "id": "AcYW7MDKScQ6",
        "colab_type": "code",
        "colab": {}
      },
      "cell_type": "code",
      "source": [
        "%matplotlib inline\n",
        "\n",
        "import os\n",
        "import re\n",
        "import urllib.request\n",
        "import numpy as np\n",
        "import torch\n",
        "import torch.nn as nn\n",
        "import torch.nn.functional as F\n",
        "import torch.optim as optim\n",
        "import matplotlib.pyplot as plt\n",
        "\n",
        "from torch.utils.data import Dataset, DataLoader\n",
        "from torch.nn.utils.rnn import pack_padded_sequence, pad_packed_sequence\n",
        "from torch.distributions import Normal\n",
        "from torch.distributions.kl import kl_divergence"
      ],
      "execution_count": 0,
      "outputs": []
    },
    {
      "metadata": {
        "id": "pMktCZC3Vwyg",
        "colab_type": "text"
      },
      "cell_type": "markdown",
      "source": [
        "In this notebook you will work with a deep generative language model that maps sentences from a continuous latent space. We will use text data in English and pytorch. \n",
        "\n",
        "The first section concerns data manipulation and data loading classes necessary for our implementation. You do not need to modify anything in this part of the code, but it is useful to read through as it might illustrate some good practices."
      ]
    },
    {
      "metadata": {
        "id": "ca_L1zfDScRC",
        "colab_type": "text"
      },
      "cell_type": "markdown",
      "source": [
        "Let's first download the Penn Treebank dataset that we will be using for this notebook: these are the sentences in the PTB English corpus."
      ]
    },
    {
      "metadata": {
        "id": "pYl0oQJVScRE",
        "colab_type": "code",
        "colab": {
          "base_uri": "https://localhost:8080/",
          "height": 51
        },
        "outputId": "c7107637-4967-4736-8004-33772656a806"
      },
      "cell_type": "code",
      "source": [
        "url = \"https://raw.githubusercontent.com/jhcross/span-parser/master/data/\"\n",
        "train_file = \"02-21.10way.clean\"\n",
        "val_file = \"22.auto.clean\"\n",
        "test_file = \"23.auto.clean\"\n",
        "\n",
        "print(\"Downloading data files...\")\n",
        "if not os.path.isfile(train_file):\n",
        "    urllib.request.urlretrieve(url + train_file, filename=train_file)\n",
        "if not os.path.isfile(val_file):\n",
        "    urllib.request.urlretrieve(url + val_file, filename=val_file)\n",
        "if not os.path.isfile(test_file):\n",
        "    urllib.request.urlretrieve(url + test_file, filename=test_file)\n",
        "print(\"Download complete.\")"
      ],
      "execution_count": 2,
      "outputs": [
        {
          "output_type": "stream",
          "text": [
            "Downloading data files...\n",
            "Download complete.\n"
          ],
          "name": "stdout"
        }
      ]
    },
    {
      "metadata": {
        "id": "oPlLBwayScRN",
        "colab_type": "text"
      },
      "cell_type": "markdown",
      "source": [
        "# Data\n",
        "\n",
        "In order to work with text data, we need to transform the text into something that our algorithms can work with. The first step of this process is converting words into word ids. We do this by constructing a vocabulary from the data, assigning a new word id to each new word it encounters."
      ]
    },
    {
      "metadata": {
        "id": "S4wtwvwaScRP",
        "colab_type": "code",
        "colab": {}
      },
      "cell_type": "code",
      "source": [
        "UNK_TOKEN = \"<unk>\"\n",
        "PAD_TOKEN = \"<pad>\"\n",
        "SOS_TOKEN = \"<s>\"\n",
        "EOS_TOKEN = \"</s>\"\n",
        "\n",
        "\n",
        "class Vocabulary:\n",
        "    \n",
        "    def __init__(self):\n",
        "        self.idx_to_word = {0: UNK_TOKEN, 1: PAD_TOKEN, 2: SOS_TOKEN, 3: EOS_TOKEN}\n",
        "        self.word_to_idx = {UNK_TOKEN: 0, PAD_TOKEN: 1, SOS_TOKEN: 2, EOS_TOKEN: 3}\n",
        "        self.word_freqs = {}\n",
        "    \n",
        "    def __getitem__(self, key):\n",
        "        return self.word_to_idx[key] if key in self.word_to_idx else self.word_to_idx[UNK_TOKEN]\n",
        "    \n",
        "    def word(self, idx):\n",
        "        return self.idx_to_word[idx]\n",
        "    \n",
        "    def size(self):\n",
        "        return len(self.word_to_idx)\n",
        "    \n",
        "    @staticmethod\n",
        "    def from_data(filenames):\n",
        "        \"\"\"\n",
        "            Creates a vocabulary from a list of data files. It assumes that the data files have been\n",
        "            tokenized and pre-processed beforehand.\n",
        "        \"\"\"\n",
        "        vocab = Vocabulary()\n",
        "        for filename in filenames:\n",
        "            with open(filename) as f:\n",
        "                for line in f:\n",
        "                    \n",
        "                    # Strip whitespace and the newline symbol.\n",
        "                    line = tokens_from_treestring(line.strip())\n",
        "                    \n",
        "                    # Split the sentences into words and assign word ids to each\n",
        "                    # new word it encounters.\n",
        "                    for word in line.split():\n",
        "                        if word not in vocab.word_to_idx:\n",
        "                            idx = len(vocab.word_to_idx)\n",
        "                            vocab.word_to_idx[word] = idx\n",
        "                            vocab.idx_to_word[idx] = word\n",
        "                            \n",
        "        return vocab"
      ],
      "execution_count": 0,
      "outputs": []
    },
    {
      "metadata": {
        "id": "5yGmXEQ2TQSJ",
        "colab_type": "code",
        "colab": {
          "base_uri": "https://localhost:8080/",
          "height": 51
        },
        "outputId": "1a497103-5d06-487b-9bf7-b3012501c9da"
      },
      "cell_type": "code",
      "source": [
        "# Construct a vocabulary from the training and validation data.\n",
        "print(\"Constructing vocabulary...\")\n",
        "vocab = Vocabulary.from_data([train_file, val_file])\n",
        "print(\"Constructed a vocabulary of %d word types\" % vocab.size())"
      ],
      "execution_count": 9,
      "outputs": [
        {
          "output_type": "stream",
          "text": [
            "Constructing vocabulary...\n",
            "Constructed a vocabulary of 45233 word types\n"
          ],
          "name": "stdout"
        }
      ]
    },
    {
      "metadata": {
        "id": "jLP1Yy2_TtzR",
        "colab_type": "code",
        "colab": {
          "base_uri": "https://localhost:8080/",
          "height": 68
        },
        "outputId": "7f6fb56a-8f7b-46a6-93b9-82df4bb82e29"
      },
      "cell_type": "code",
      "source": [
        "# some examples\n",
        "print('the', vocab['the'])\n",
        "print('the', vocab['thing'])\n",
        "print('VAE', vocab['VAE'])  # something UNKNOWN"
      ],
      "execution_count": 12,
      "outputs": [
        {
          "output_type": "stream",
          "text": [
            "the 20\n",
            "the 630\n",
            "VAE 0\n"
          ],
          "name": "stdout"
        }
      ]
    },
    {
      "metadata": {
        "id": "0Wwdq1DtScRX",
        "colab_type": "text"
      },
      "cell_type": "markdown",
      "source": [
        "We also need to load the data files into memory. We create a simple class `TextDataset` that stores the data as a list of sentences:"
      ]
    },
    {
      "metadata": {
        "id": "JYC5fXfIScRa",
        "colab_type": "code",
        "colab": {}
      },
      "cell_type": "code",
      "source": [
        "class TextDataset(Dataset):\n",
        "    \"\"\"\n",
        "        A simple class that loads a list of sentences into memory from a text file,\n",
        "        split by newlines. This does not do any memory optimisation, \n",
        "        so if your dataset is very large, you might want to use an alternative \n",
        "        class.\n",
        "    \"\"\"\n",
        "    \n",
        "    def __init__(self, text_file):\n",
        "        self.data = []\n",
        "        with open(text_file) as f:\n",
        "            for line in f:\n",
        "                self.data.append(tokens_from_treestring(line.strip()))\n",
        "        \n",
        "    def __len__(self):\n",
        "        return len(self.data)\n",
        "    \n",
        "    def __getitem__(self, idx):\n",
        "        return self.data[idx]"
      ],
      "execution_count": 0,
      "outputs": []
    },
    {
      "metadata": {
        "id": "SehavEDQTfIe",
        "colab_type": "code",
        "colab": {
          "base_uri": "https://localhost:8080/",
          "height": 148
        },
        "outputId": "c2b611b6-c5c6-418e-cae7-ca34969c7cff"
      },
      "cell_type": "code",
      "source": [
        "# Load the training, validation, and test datasets into memory.\n",
        "train_dataset = TextDataset(train_file)\n",
        "val_dataset = TextDataset(val_file)\n",
        "test_dataset = TextDataset(test_file)\n",
        "\n",
        "# Print some samples from the data:\n",
        "print(\"Sample from training data: \\\"%s\\\"\" % train_dataset[np.random.choice(len(train_dataset))])\n",
        "print(\"Sample from validation data: \\\"%s\\\"\" % val_dataset[np.random.choice(len(val_dataset))])\n",
        "print(\"Sample from test data: \\\"%s\\\"\" % test_dataset[np.random.choice(len(test_dataset))])"
      ],
      "execution_count": 14,
      "outputs": [
        {
          "output_type": "stream",
          "text": [
            "Sample from training data: \"The unit is a loosely constructed group of about 3,900 independent brokers and financial planners who sell insurance annuities limited partnerships mutual funds and other investments for Integrated and other firms\"\n",
            "Sample from validation data: \"The screen was a sea of red\"\n",
            "Sample from test data: \"We simply do n't have strong leadership to try to reduce the deficit and make tough choices House Budget Committee Chairman Leon Panetta D. Calif said yesterday on NBC News 's Meet the Press\"\n"
          ],
          "name": "stdout"
        }
      ]
    },
    {
      "metadata": {
        "id": "PNQ1TG-3ScRh",
        "colab_type": "text"
      },
      "cell_type": "markdown",
      "source": [
        "Now it's time to write a function that converts a sentence into a list of word ids using the vocabulary we created before. This function is `create_batch` in the code cell below. This function creates a batch from a list of sentences, and makes sure that each sentence starts with a start-of-sentence symbol and ends with an end-of-sentence symbol. Because not all sentences are of equal length in a certain batch, sentences are padded with padding symbols so that they match the length of the largest sentence in the batch. The function returns an input batch, an output batch, a mask of 1s for words and 0s for padding symbols, and the sequence lengths of each sentence in the batch. The output batch is shifted by one word, to reflect the predictions that the model is expected to make. For example, for a sentence\n",
        "\\begin{align}\n",
        "    \\text{The dog runs .}\n",
        "\\end{align}\n",
        "the input sequence is\n",
        "\\begin{align}\n",
        "    \\text{SOS The dog runs .}\n",
        "\\end{align}\n",
        "and the output sequence is\n",
        "\\begin{align}\n",
        "    \\text{The dog runs . EOS}\n",
        "\\end{align}\n",
        "\n",
        "You can see the output is shifted wrt the input, that's because we will be computing a distribution for the next word in context of its prefix, and that's why we need to shift the sequence this way.\n",
        "\n",
        "\n",
        "Lastly, we create an inverse function `batch_to_sentences` that recovers the list of sentences from a padded batch of word ids to use during test time."
      ]
    },
    {
      "metadata": {
        "id": "GcYfsIaBScRj",
        "colab_type": "code",
        "colab": {}
      },
      "cell_type": "code",
      "source": [
        "def create_batch(sentences, vocab, device, word_dropout=0.):\n",
        "    \"\"\"\n",
        "    Converts a list of sentences to a padded batch of word ids. Returns\n",
        "    an input batch, an output batch shifted by one, a sequence mask over\n",
        "    the input batch, and a tensor containing the sequence length of each\n",
        "    batch element.\n",
        "    :param sentences: a list of sentences, each a list of token ids\n",
        "    :param vocab: a Vocabulary object for this dataset\n",
        "    :param device: \n",
        "    :param word_dropout: rate at which we omit words from the context (input)\n",
        "    :returns: a batch of padded inputs, a batch of padded outputs, mask, lengths\n",
        "    \"\"\"\n",
        "    tok = np.array([[SOS_TOKEN] + sen.split() + [EOS_TOKEN] for sen in sentences])\n",
        "    seq_lengths = [len(sen)-1 for sen in tok]\n",
        "    max_len = max(seq_lengths)\n",
        "    pad_id = vocab[PAD_TOKEN]\n",
        "    pad_id_input = [\n",
        "        [vocab[sen[t]] if t < seq_lengths[idx] else pad_id for t in range(max_len)]\n",
        "            for idx, sen in enumerate(tok)]\n",
        "    \n",
        "    # Replace words of the input with <unk> with p = word_dropout.\n",
        "    if word_dropout > 0.:\n",
        "        unk_id = vocab[UNK_TOKEN]\n",
        "        word_drop =  [\n",
        "            [unk_id if (np.random.random() < word_dropout and t < seq_lengths[idx]) else word_ids[t] for t in range(max_len)] \n",
        "                for idx, word_ids in enumerate(pad_id_input)]\n",
        "    \n",
        "    # The output batch is shifted by 1.\n",
        "    pad_id_output = [\n",
        "        [vocab[sen[t+1]] if t < seq_lengths[idx] else pad_id for t in range(max_len)]\n",
        "            for idx, sen in enumerate(tok)]\n",
        "    \n",
        "    # Convert everything to PyTorch tensors.\n",
        "    batch_input = torch.tensor(pad_id_input)\n",
        "    batch_output = torch.tensor(pad_id_output)\n",
        "    seq_mask = (batch_input != vocab[PAD_TOKEN])\n",
        "    seq_length = torch.tensor(seq_lengths)\n",
        "    \n",
        "    # Move all tensors to the given device.\n",
        "    batch_input = batch_input.to(device)\n",
        "    batch_output = batch_output.to(device)\n",
        "    seq_mask = seq_mask.to(device)\n",
        "    seq_length = seq_length.to(device)\n",
        "    \n",
        "    return batch_input, batch_output, seq_mask, seq_length\n",
        "\n",
        "\n",
        "def batch_to_sentences(tensors, vocab: Vocabulary):\n",
        "    \"\"\"\n",
        "    Converts a batch of word ids back to sentences.\n",
        "    :param tensors: [B, T] word ids\n",
        "    :param vocab: a Vocabulary object for this dataset\n",
        "    :returns: an array of strings (each a sentence).\n",
        "    \"\"\"\n",
        "    sentences = []\n",
        "    batch_size = tensors.size(0)\n",
        "    for idx in range(batch_size):\n",
        "        sentence = [vocab.word(t.item()) for t in tensors[idx,:]]\n",
        "        \n",
        "        # Filter out the start-of-sentence and padding tokens.\n",
        "        sentence = list(filter(lambda t: t != PAD_TOKEN and t != SOS_TOKEN, sentence))\n",
        "        \n",
        "        # Remove the end-of-sentence token and all tokens following it.\n",
        "        if EOS_TOKEN in sentence:\n",
        "            sentence = sentence[:sentence.index(EOS_TOKEN)]\n",
        "            \n",
        "        sentences.append(\" \".join(sentence))\n",
        "    return np.array(sentences)"
      ],
      "execution_count": 0,
      "outputs": []
    },
    {
      "metadata": {
        "id": "l7R5_4wwScRq",
        "colab_type": "text"
      },
      "cell_type": "markdown",
      "source": [
        "In PyTorch the RNN functions expect inputs to be sorted from long sentences to shorter ones. Therefore we create a simple wrapper class for the DataLoader class that sorts sentences from long to short:  "
      ]
    },
    {
      "metadata": {
        "id": "Xjtwes5iScRs",
        "colab_type": "code",
        "colab": {}
      },
      "cell_type": "code",
      "source": [
        "class SortingTextDataLoader:\n",
        "    \"\"\"\n",
        "    A wrapper for the DataLoader class that sorts a list of sentences by their\n",
        "    lengths in descending order.\n",
        "    \"\"\"\n",
        "\n",
        "    def __init__(self, dataloader):\n",
        "        self.dataloader = dataloader\n",
        "        self.it = iter(dataloader)\n",
        "    \n",
        "    def __iter__(self):\n",
        "        return self\n",
        "    \n",
        "    def __next__(self):\n",
        "        sentences = None\n",
        "        for s in self.it:\n",
        "            sentences = s\n",
        "            break\n",
        "\n",
        "        if sentences is None:\n",
        "            self.it = iter(self.dataloader)\n",
        "            raise StopIteration\n",
        "        \n",
        "        sentences = np.array(sentences)\n",
        "        sort_keys = sorted(range(len(sentences)), \n",
        "                           key=lambda idx: len(sentences[idx].split()), \n",
        "                           reverse=True)\n",
        "        sorted_sentences = sentences[sort_keys]\n",
        "        return sorted_sentences"
      ],
      "execution_count": 0,
      "outputs": []
    },
    {
      "metadata": {
        "id": "bkrOx_-NScRw",
        "colab_type": "text"
      },
      "cell_type": "markdown",
      "source": [
        "# Model\n",
        "\n",
        "## Deterministic language model\n",
        "\n",
        "In language modelling, we model a sentence $x = \\langle x_1, \\ldots, x_n \\rangle$  of length $n = |x|$ as a sequence of categorical draws:\n",
        "\n",
        "\\begin{align}\n",
        "X_i|x_{<i} & \\sim \\text{Cat}(f(x_{<i}; \\theta)) \n",
        "& i = 1, \\ldots, n \\\\\n",
        "\\end{align}\n",
        "\n",
        "where we use $x_{<i}$ to denote a (possibly empty) prefix string, and thus the model makes no Markov assumption. We map from the conditioning context, the prefix $x_{<i}$, to the categorical parameters using a fixed neural network architecture whose parameters we collectively denote by $\\theta$.\n",
        "\n",
        "This assigns the following likelihood to the sentence\n",
        "\\begin{align}\n",
        "    P(x|\\theta) &= \\prod_{i=1}^n P(x_i|x_{<i}, \\theta) \\\\\n",
        "    &= \\prod_{i=1}^n \\text{Cat}(x_i|f(x_{<i}; \\theta))  \n",
        "\\end{align}\n",
        "where the categorical pmf is $\\text{Cat}(k|\\pi) = \\pi_k$. \n",
        "\n",
        "\n",
        "Suppose we have a dataset $\\mathcal D = \\{x^{(1)}, \\ldots, x^{(N)}\\}$ containing $N$ i.i.d. observations. Then we can use the log-likelihood function \n",
        "\\begin{align}\n",
        "\\mathcal L(\\theta|\\mathcal D) &= \\sum_{k=1}^{N} \\log P(x^{(k)}| \\theta) \\\\\n",
        "&= \\sum_{k=1}^{N} \\sum_{i=1}^{|x^{(k)}|} \\log \\text{Cat}(x^{(k)}_i|f(x^{(k)}_{<i}; \\theta))\n",
        "\\end{align}\n",
        " to estimate $\\theta$ by maximisation:\n",
        " \\begin{align}\n",
        " \\theta^\\star = \\arg\\max_{\\theta \\in \\Theta} \\mathcal L(\\theta|\\mathcal D) ~ .\n",
        " \\end{align}\n",
        " \n",
        "\n",
        "We can use stochastic gradient-ascent to find a local optimum of $\\mathcal L(\\theta|\\mathcal D)$, which only requires a gradient estimate:\n",
        "\n",
        "\\begin{align}\n",
        "\\nabla_\\theta \\mathcal L(\\theta|\\mathcal D) &= \\sum_{k=1}^{|\\mathcal D|} \\nabla_\\theta  \\log P(x^{(k)}|\\theta) \\\\ \n",
        "&= \\sum_{k=1}^{|\\mathcal D|} \\frac{1}{N} N \\nabla_\\theta  \\log P(x^{(k)}| \\theta)  \\\\\n",
        "&= \\mathbb E_{\\mathcal U(1/N)} \\left[ N \\nabla_\\theta  \\log P(x^{(K)}| \\theta) \\right]  \\\\\n",
        "&\\overset{\\text{MC}}{\\approx} \\frac{N}{M} \\sum_{m=1}^M \\nabla_\\theta  \\log P(x^{(k_m)}|\\theta) \\\\\n",
        "&\\text{where }K_m \\sim \\mathcal U(1/N)\n",
        "\\end{align}\n",
        "\n",
        "This is a Monte Carlo (MC) estimate of the gradient computed on $M$ data points selected uniformly at random from $\\mathcal D$.\n",
        "\n",
        "For as long as $f$ remains differentiable wrt to its inputs and parameters, we can rely on automatic differentiation to obtain gradient estimates.\n",
        "\n",
        "\n",
        "An example design for $f$ is:\n",
        "\\begin{align}\n",
        "\\mathbf x_i &= \\text{emb}(x_i; \\theta_{\\text{emb}}) \\\\\n",
        "\\mathbf h_i &= \\text{rnn}(\\mathbf h_{i-1}, \\mathbf x_{i-1}; \\theta_{\\text{rnn}}) \\\\\n",
        "f(x_{<i}; \\theta) &= \\text{softmax}(\\text{dense}_v(\\mathbf h_{i};  \\theta_{\\text{out}}))\n",
        "\\end{align}\n",
        "where \n",
        "* $\\text{emb}$ is a fixed embedding layer with parameters $\\theta_{\\text{emb}}$;\n",
        "* $\\text{rnn}$ is a recurrent architecture with parameters $\\theta_{\\text{rnn}}$, e.g. an LSTM or GRU, and $\\mathbf h_0$ is part of the architecture's parameters;\n",
        "* $\\text{dense}_v$ is a dense layer with $v$ outputs (vocabulary size) and parameters $\\theta_{\\text{out}}$.\n",
        "\n",
        "\n",
        "\n",
        "In what follows we show how to extend this model with a continuous latent sentence embedding."
      ]
    },
    {
      "metadata": {
        "id": "xhO8rD2DYuar",
        "colab_type": "text"
      },
      "cell_type": "markdown",
      "source": [
        "## Deep generative language model\n",
        "\n",
        "We want to model a sentence $x$ as a draw from the marginal of deep generative model $p(z, x|\\theta) = p(z)P(x|z, \\theta)$. Note that we use $p(\\cdot)$ for pdfs and $P(\\cdot)$ for pmfs.\n",
        "\n",
        "The generative story is:\n",
        "\\begin{align}\n",
        "    Z & \\sim \\mathcal N(0, I) \\\\\n",
        "    X_i | z, x_{<i} &\\sim \\text{Cat}(f(z, x_{<i}; \\theta)) & i=1, \\ldots, n\n",
        "\\end{align}\n",
        "where $z \\in \\mathbb R^D$ and  we impose a standard Gaussian prior on latent space. Other choices of prior can induce interesting properties in latent space, however, in this notebook, we use the Gaussian for its simplicity.\n",
        "\n",
        "It is easy to design $f$ by a simple modification of the deterministic design shown before:\n",
        "\\begin{align}\n",
        "\\mathbf x_i &= \\text{emb}(x_i; \\theta_{\\text{emb}}) \\\\\n",
        "\\mathbf h_0 &= \\tanh(\\text{dense}(z; \\theta_{\\text{init}})) \\\\\n",
        "\\mathbf h_i &= \\text{rnn}(\\mathbf h_{i-1}, \\mathbf x_{i-1}; \\theta_{\\text{rnn}}) \\\\\n",
        "f(x_{<i}; \\theta) &= \\text{softmax}(\\text{dense}_v(\\mathbf h_{i};  \\theta_{\\text{out}}))\n",
        "\\end{align}\n",
        "where we just initialise the recurrent cell using $z$. Note we could also use $z$ in other places, for example, as additional input to every update of the recurrent cell $\\mathbf h_i = \\text{rnn}(\\mathbf h_{i-1}, [\\mathbf x_{i-1}, z])$. This is an architecture choice which like many others can only be judged empirically or on the basis of practical convenience.\n",
        "\n"
      ]
    },
    {
      "metadata": {
        "id": "YwB7igyXg8uU",
        "colab_type": "text"
      },
      "cell_type": "markdown",
      "source": [
        "The marginal likelihood, necessary for parameter estimation, is now no longer tractable:\n",
        "\\begin{align}\n",
        "P(x|\\theta) &= \\int p(z)P(x|z, \\theta) \\text{d}z \\\\\n",
        "&= \\int \\mathcal N(z|0, I)\\prod_{i=1}^n \\text{Cat}(x_i|f(z,x_{<i}; \\theta) )\\text{d}z \n",
        "\\end{align}\n",
        "the intractability is clear as even if $f$ would be linear (recall it isn't) the Gaussian and the Categorical are not conjugate and the integration has no closed-form solution.\n",
        "\n",
        "We turn to variational inference and derive a lowerbound $\\mathcal E(\\theta, \\lambda|\\mathcal D)$ on the log-likelihood function\n",
        "\n",
        "\\begin{align}\n",
        "    \\mathcal E(\\theta, \\lambda|\\mathcal D) &= \\sum_{k=1}^{|\\mathcal D|} \\mathcal E_k(\\theta, \\lambda|x^{(k)}) \n",
        "\\end{align}\n",
        "\n",
        "which for a single datapoint $x$ is\n",
        "\\begin{align}\n",
        "    \\mathcal E(\\theta, \\lambda|x) &= \\mathbb{E}_{q(z|x)}\\left[P(x|z, \\theta)\\right] - \\text{KL}\\left(q(z|x, \\lambda)||p(z)\\right)\\\\\n",
        "\\end{align}\n",
        "where we have introduce an independently parameterised auxiliary distribution $q(z|x, \\lambda)$. The distribution $q$ which maximises this *evidence lowerbound* (ELBO) is also the distribution that minimises \n",
        "\\begin{align}\n",
        "\\text{KL}(q(z|x, \\lambda)||p(z|x, \\theta)) = \\mathbb E_{q(z|x, \\lambda)}\\left[ \\frac{q(z|x, \\lambda)}{p(z|x, \\theta)}\\right]\n",
        "\\end{align}\n",
        " where $p(z|x, \\theta) = \\frac{p(x, z|\\theta)}{p(x|\\theta)}$ is our intractable true posterior. For that reason, we think of $q(z|x, \\lambda)$ as an *approximate posterior*. \n",
        " \n",
        " The approximate posterior is an independent model of the latent variable given the data, for that reason we also call it an *inference model*. \n",
        " In this notebook, our inference model will be a diagonal Gaussian, to make sure that we cover the sample space of our latent variable.\n",
        " \n",
        " \\begin{align}\n",
        "    q(z|x, \\lambda) = \\mathcal N(z|\\mu(x; \\lambda), \\sigma(x; \\lambda)^2)\n",
        " \\end{align}\n",
        " \n",
        " where we employ neural network architectures to map from the sentence $x$ to a vector of locations (in $\\mathbb R^D$) and a vector of scales (in $\\mathbb R^D_{>0}$).\n",
        " \n",
        " A diagonal Gaussian models each component of the latent representation independently, and is an example of mean field inference. Because we have neural networks compute the diagonal Gaussian parameters for us, we call this *amortised* mean field inference.\n",
        " \n",
        " This makes our model an instance of what is known in the literature as a *variational auto-encoder* (VAE).\n",
        "\n",
        "Here's an example design for our inference model:\n",
        "\n",
        "\\begin{align}\n",
        "\\mathbf x_i &= \\text{emb}(x_i; \\lambda_{\\text{emb}}) \\\\\n",
        "\\mathbf f_i &= \\text{rnn}(\\mathbf f_{i-1}, \\mathbf x_{i}; \\lambda_{\\text{fwd}}) \\\\\n",
        "\\mathbf b_i &= \\text{rnn}(\\mathbf b_{i+1}, \\mathbf x_{i}; \\lambda_{\\text{bwd}}) \\\\\n",
        "\\mathbf h &= \\text{dense}([\\mathbf f_{n}, \\mathbf b_1]; \\lambda_{\\text{hid}}) \\\\\n",
        "\\mu(x; \\lambda) &= \\text{dense}(\\mathbf h; \\lambda_{\\text{loc}})\\\\\n",
        "\\sigma(x; \\lambda) &= \\text{softplus}(\\text{dense}(\\mathbf h; \\lambda_{\\text{scale}}))\n",
        "\\end{align}\n",
        "\n",
        "where we use the $\\text{softplus}$ activation to make sure our scales are strictly positive. Note that $\\exp$ would also do that job, though $\\text{softplus}$ is assymptotically linear with its input, which gives us better gradient dynamics."
      ]
    },
    {
      "metadata": {
        "id": "XUqjJzdXYtMa",
        "colab_type": "code",
        "colab": {}
      },
      "cell_type": "code",
      "source": [
        ""
      ],
      "execution_count": 0,
      "outputs": []
    },
    {
      "metadata": {
        "id": "izurBBZQScRx",
        "colab_type": "code",
        "colab": {}
      },
      "cell_type": "code",
      "source": [
        "class InferenceModel(nn.Module):\n",
        "\n",
        "    def __init__(self, vocab_size, embedder, hidden_size,\n",
        "                 latent_size, pad_idx, bidirectional=False):\n",
        "        super().__init__()\n",
        "        self.bidirectional = bidirectional\n",
        "        \n",
        "        # We borrow the embedder from the generative model, but we don't\n",
        "        # want tobackpropagate through it for the inference model. So we\n",
        "        # need to make sure to call detach on the embeddings later.\n",
        "        self.embedder = embedder\n",
        "        \n",
        "        # Create a (bidirectional) LSTM to encode x.\n",
        "        self.lstm = nn.LSTM(emb_size, hidden_size, batch_first=True, \n",
        "                            bidirectional=bidirectional)\n",
        "        \n",
        "        # The output of the LSTM doubles if we use a bidirectional encoder.\n",
        "        encoding_size = hidden_size * 2 if bidirectional else hidden_size\n",
        "        \n",
        "        # Create two affine layers to project the encoder final state to\n",
        "        # the mean and standard deviation of the diagonal Gaussian that\n",
        "        # we are predicting.\n",
        "        self.mu_layer = nn.Linear(encoding_size, latent_size)\n",
        "        self.sigma_layer = nn.Linear(encoding_size, latent_size)\n",
        "\n",
        "    def forward(self, x, seq_mask, seq_len):\n",
        "        \n",
        "        # Compute word embeddings and detach them so that no gradients\n",
        "        # from the infererence model flow through.\n",
        "        x_embed = self.embedder(x).detach()\n",
        "        \n",
        "        # Encode the sentence using the LSTM.\n",
        "        hidden = None        \n",
        "        packed_seq = pack_padded_sequence(x_embed, seq_len, batch_first=True)\n",
        "        _, final = self.lstm(packed_seq, hidden)        \n",
        "\n",
        "        # Take the final output h_T from the LSTM, concatenate the forward\n",
        "        # and backward directions for the bidirectional case.\n",
        "        h_T = final[0]\n",
        "        if self.bidirectional:\n",
        "            h_T_fwd = h_T[0]\n",
        "            h_T_bwd = h_T[1]\n",
        "            h_T = torch.cat([h_T_fwd, h_T_bwd], dim=-1)\n",
        "        \n",
        "        # Compute the mean and sigma of the diagonal Gaussian distribution.\n",
        "        # Use a softplus activation for the standard deviation to ensure it's\n",
        "        # positive.\n",
        "        mu = self.mu_layer(h_T)\n",
        "        sigma = F.softplus(self.sigma_layer(h_T))\n",
        "        \n",
        "        # Return the inferred Gaussian distribution q(z|x).\n",
        "        qz = Normal(mu, sigma)\n",
        "        return qz"
      ],
      "execution_count": 0,
      "outputs": []
    },
    {
      "metadata": {
        "id": "53Aztjb5ScR2",
        "colab_type": "text"
      },
      "cell_type": "markdown",
      "source": [
        "Now we define the generative model:"
      ]
    },
    {
      "metadata": {
        "id": "ObJ-Ag_5ScR4",
        "colab_type": "code",
        "colab": {}
      },
      "cell_type": "code",
      "source": [
        "class BowmanLM(nn.Module):\n",
        "    \n",
        "    def __init__(self, vocab_size, emb_size, hidden_size, latent_size,\n",
        "                 pad_idx, dropout=0., bidirectional=False):\n",
        "        super().__init__()\n",
        "        self.pad_idx = pad_idx\n",
        "        self.embedder = nn.Embedding(vocab_size, emb_size,\n",
        "                                     padding_idx=pad_idx)\n",
        "        self.lstm = nn.LSTM(emb_size, hidden_size, batch_first=True)\n",
        "        self.bridge = nn.Linear(latent_size, hidden_size)\n",
        "        self.projection = nn.Linear(hidden_size, vocab_size, bias=False)\n",
        "        self.dropout_layer = nn.Dropout(p=dropout)\n",
        "        self.inference_model = InferenceModel(vocab_size, self.embedder,\n",
        "                                              hidden_size, latent_size, pad_idx, \n",
        "                                              bidirectional=bidirectional)\n",
        "    \n",
        "    \"\"\"\n",
        "        Infers the approximate posterior q(z|x) for a given x.\n",
        "    \"\"\"\n",
        "    def infer(self, x, seq_mask, seq_len):\n",
        "        qz = self.inference_model(x, seq_mask, seq_len)\n",
        "        return qz\n",
        "\n",
        "    \"\"\"\n",
        "        Returns the hidden state of the LSTM initialized with a projection of a given z.\n",
        "    \"\"\"\n",
        "    def init_hidden(self, z):\n",
        "        h = self.bridge(z).unsqueeze(0)\n",
        "        c = self.bridge(z).unsqueeze(0)\n",
        "        return (h, c)\n",
        "\n",
        "    \"\"\"\n",
        "        Performs a single LSTM step for a given previous word and hidden state.\n",
        "        Returns the unnormalized probabilities over the vocabulary for this time step. \n",
        "    \"\"\"\n",
        "    def step(self, prev_x, z, hidden):\n",
        "        x_embed = self.dropout_layer(self.embedder(prev_x))\n",
        "        output, hidden = self.lstm(x_embed, hidden)\n",
        "        scores = self.projection(self.dropout_layer(output))\n",
        "        return scores, hidden\n",
        "    \n",
        "    \"\"\"\n",
        "        Performs an entire forward pass given a sequence of words x and a z.\n",
        "    \"\"\"\n",
        "    def forward(self, x, z):\n",
        "        hidden = self.init_hidden(z)\n",
        "        outputs = []\n",
        "        for t in range(x.size(1)):\n",
        "            prev_x = x[:, t].unsqueeze(-1)\n",
        "            scores, hidden = self.step(prev_x, z, hidden)\n",
        "            outputs.append(scores)\n",
        "        return torch.cat(outputs, dim=1)\n",
        "        \n",
        "    \"\"\"\n",
        "        Computes the loss given the scores (unnormalized probabilities), targets,\n",
        "        the prior distribution p(z), and the approximate posterior distribution q(z|x).\n",
        "        If free_nats is nonzero it will clamp the KL divergence between the posterior\n",
        "        and prior to that value, preventing gradient propagation via the KL if it's\n",
        "        below that value. If evaluation is set to true, the loss will be summed instead\n",
        "        of averaged over the batch. Returns the reconstruction loss and the KL. The loss\n",
        "        can be computed from those as loss = rec_loss - KL.\n",
        "    \"\"\"\n",
        "    def loss(self, scores, targets, pz, qz, free_nats=0., evaluation=False):\n",
        "        \n",
        "        # Approximate E[log P(x|z)].\n",
        "        scores = scores.permute(0, 2, 1)\n",
        "        reconstruction_loss = F.cross_entropy(scores, targets, \n",
        "                                              ignore_index=self.pad_idx, \n",
        "                                              reduction=\"none\")\n",
        "        reconstruction_loss = reconstruction_loss.sum(dim=1)\n",
        "        \n",
        "        # Compute the KL divergence and clamp to at least the given amount of free nats.\n",
        "        KL = kl_divergence(qz, pz).sum(dim=1)\n",
        "        KL = torch.clamp(KL, min=free_nats)\n",
        "        \n",
        "        # For evaluation return the sum of individual components, for\n",
        "        # training return the mean of those components.\n",
        "        if evaluation:\n",
        "            return (reconstruction_loss.sum(), KL.sum())\n",
        "        else:\n",
        "            return (reconstruction_loss.mean(), KL.mean())"
      ],
      "execution_count": 0,
      "outputs": []
    },
    {
      "metadata": {
        "id": "PLfa31jEScR7",
        "colab_type": "text"
      },
      "cell_type": "markdown",
      "source": [
        "# Evaluation metrics\n",
        "\n",
        "During training we'd like to keep track of some evaluation metrics on the validation data in order to keep track of how our model is doing and to perform early stopping. One simple metric we can compute is the ELBO on all the validation or test data using a single sample from the approximate posterior $q(z|x)$:"
      ]
    },
    {
      "metadata": {
        "id": "URdX_JJ5ScR9",
        "colab_type": "code",
        "colab": {}
      },
      "cell_type": "code",
      "source": [
        "\"\"\"\n",
        "    Computes a single sample estimate of the ELBO on a given dataset.\n",
        "\"\"\"\n",
        "def eval_elbo(model, eval_dataset, vocab, device, batch_size=128):\n",
        "    dl = DataLoader(eval_dataset, batch_size=batch_size)\n",
        "    sorted_dl = SortingTextDataLoader(dl)\n",
        "    \n",
        "    # Make sure the model is in evaluation mode (i.e. disable dropout).\n",
        "    model.eval()\n",
        "            \n",
        "    total_rec_loss = 0.\n",
        "    total_KL = 0.\n",
        "    num_sentences = 0\n",
        "        \n",
        "    # We don't need to compute gradients for this.\n",
        "    with torch.no_grad():\n",
        "        for sentences in sorted_dl:    \n",
        "            x_in, x_out, seq_mask, seq_len = create_batch(sentences, vocab, device)\n",
        "            \n",
        "            # Infer the approximate posterior and construct the prior.\n",
        "            qz = model.infer(x_in, seq_mask, seq_len)\n",
        "            pz = Normal(torch.zeros_like(qz.mean), \n",
        "                        torch.ones_like(qz.stddev))\n",
        "            \n",
        "            # Compute the unnormalized probabilities using a single sample from the\n",
        "            # approximate posterior.\n",
        "            z = qz.sample()\n",
        "            scores = model(x_in, z)\n",
        "            \n",
        "            # Compute the reconstruction loss and KL divergence.\n",
        "            reconstruction_loss, KL = model.loss(scores, x_out, pz, qz,\n",
        "                                                 free_nats=0.,\n",
        "                                                 evaluation=True)\n",
        "            total_rec_loss += reconstruction_loss\n",
        "            total_KL += KL\n",
        "            num_sentences += x_in.size(0)\n",
        "\n",
        "    # Return the average reconstruction loss and KL.\n",
        "    avg_rec_loss = total_rec_loss / num_sentences\n",
        "    avg_KL = total_KL / num_sentences\n",
        "    return avg_rec_loss, avg_KL"
      ],
      "execution_count": 0,
      "outputs": []
    },
    {
      "metadata": {
        "id": "tGO7RBYgScR_",
        "colab_type": "text"
      },
      "cell_type": "markdown",
      "source": [
        "A common metric to evaluate language models is the perplexity per word. The perplexity per word for a dataset is defined as:\n",
        "\n",
        "\\begin{align}\n",
        "    \\text{ppl}(\\mathcal{D}) = \\exp\\left(-\\frac{1}{\\sum_{k=1}^{|\\mathcal D|} n^{(k)}} \\sum_{k=1}^{|\\mathcal{D}|} \\log P(x^{(k)})\\right) \n",
        "\\end{align}\n",
        "\n",
        "where $n^{(k)}$ is the number of tokens in a sentence and $P(x^{(k)})$ is the probability that our model assigns to the datapoint $x^{(k)}$. In order to compute $\\log P(x)$ for our model we need to solve for the integral:\n",
        "\n",
        "\\begin{align}\n",
        "    P(x) = \\int P(x|z) p(z) dz\n",
        "\\end{align}\n",
        "\n",
        "As this is an integral we cannot compute in closed-form, we have two options: we can use the earlier derived lower-bound on the log-likelihood, which will give us an upper-bound on the perplexity, or we can make an importance sampling estimate using our approximate posterior distribution. The importance sampling estimate can be done as:\n",
        "\n",
        "\\begin{align}\n",
        "    &\\frac{1}{\\sum_{k=1}^{|\\mathcal D|} n^{(k)}}  \\sum_{k=1}^{|\\mathcal D|} \\log p(x^{(k)}) \\\\\n",
        "    &\\approx \\frac{1}{\\sum_{k=1}^{|\\mathcal D|} n^{(k)}}  \\sum_{k=1}^{|\\mathcal D|} \\log \\frac{1}{S} \\sum_{s=1}^{S} \\frac{p(z^{(s)})p(x^{(k)}|z^{(s)})}{q(z^{(s)}|x^{(k)})} \\\\\n",
        "\\end{align}\n",
        "\n",
        "where $S$ is the number of samples, and $z^{(s)} \\sim q(z|x^{k})$. We define the function `eval_perplexity` below that implements this importance sampling estimate:"
      ]
    },
    {
      "metadata": {
        "id": "VnaIidkwScSA",
        "colab_type": "code",
        "colab": {}
      },
      "cell_type": "code",
      "source": [
        "\"\"\"\n",
        "    Estimates the per-word perplexity using importance sampling with the\n",
        "    given number of samples.\n",
        "\"\"\"\n",
        "def eval_perplexity(model, eval_dataset, vocab, device, \n",
        "                    n_samples, batch_size=128):\n",
        "    \n",
        "    dl = DataLoader(eval_dataset, batch_size=batch_size)\n",
        "    sorted_dl = SortingTextDataLoader(dl)\n",
        "    \n",
        "    # Make sure the model is in evaluation mode (i.e. disable dropout).\n",
        "    model.eval()\n",
        "    \n",
        "    log_px = 0.\n",
        "    num_predictions = 0\n",
        "    num_sentences = 0\n",
        "     \n",
        "    # We don't need to compute gradients for this.\n",
        "    with torch.no_grad():\n",
        "        for sentences in sorted_dl:\n",
        "            x_in, x_out, seq_mask, seq_len = create_batch(sentences, vocab, device)\n",
        "            \n",
        "            # Infer the approximate posterior and construct the prior.\n",
        "            qz = model.infer(x_in, seq_mask, seq_len)\n",
        "            pz = Normal(torch.zeros_like(qz.mean), \n",
        "                        torch.ones_like(qz.stddev))\n",
        "\n",
        "            # Create an array to hold all samples for this batch.\n",
        "            batch_size = x_in.size(0)\n",
        "            log_px_samples = torch.zeros(n_samples, batch_size)\n",
        "            \n",
        "            # Sample log P(x) n_samples times.\n",
        "            for s in range(n_samples):\n",
        "                \n",
        "                # Sample a z^s from the posterior.\n",
        "                z = qz.sample()\n",
        "                \n",
        "                # Compute log P(x^k|z^s)\n",
        "                scores = model(x_in, z)\n",
        "                cond_log_prob = F.log_softmax(scores, dim=-1)\n",
        "                cond_log_prob = torch.gather(cond_log_prob, 2, x_out.unsqueeze(-1)).squeeze() # B x T\n",
        "                cond_log_prob = (cond_log_prob * seq_mask.type_as(cond_log_prob)).sum(dim=1) # B\n",
        "                \n",
        "                # Compute log p(z^s) and log q(z^s|x^k)\n",
        "                prior_log_prob = pz.log_prob(z).sum(dim=1) # B\n",
        "                posterior_log_prob = qz.log_prob(z).sum(dim=1) # B\n",
        "                \n",
        "                # Store the sample for log P(x^k) importance weighted with p(z^s)/q(z^s|x^k).\n",
        "                log_px_sample = cond_log_prob + prior_log_prob - posterior_log_prob\n",
        "                log_px_samples[s] = log_px_sample\n",
        "                \n",
        "            # Average over the number of samples and count the number of predictions made this batch.\n",
        "            log_px_batch = torch.logsumexp(log_px_samples, dim=0) - \\\n",
        "                    torch.log(torch.Tensor([n_samples]))\n",
        "            log_px += log_px_batch.sum()\n",
        "            num_predictions += seq_len.sum()\n",
        "            num_sentences += seq_len.size(0)\n",
        "\n",
        "    # Compute and return the perplexity per word.\n",
        "    perplexity = torch.exp(-log_px / num_predictions)\n",
        "    NLL = -log_px / num_sentences\n",
        "    return perplexity, NLL"
      ],
      "execution_count": 0,
      "outputs": []
    },
    {
      "metadata": {
        "id": "IvoVmedYScSC",
        "colab_type": "text"
      },
      "cell_type": "markdown",
      "source": [
        "Lastly, we want to occasionally qualitatively see the performance of the model during training, by letting it reconstruct a given sentence from the latent space. This gives us an idea of whether the model is using the latent space to encode some semantics about the data. For this we use a deterministic greedy decoding algorithm, that chooses the word with maximum probability at every time step, and feeds that word into the next time step."
      ]
    },
    {
      "metadata": {
        "id": "LDD5XF1GScSC",
        "colab_type": "code",
        "colab": {}
      },
      "cell_type": "code",
      "source": [
        "\"\"\"\n",
        "    Greedily decodes a sentence from a given z, by picking the word with\n",
        "    maximum probability at each time step.\n",
        "\"\"\"\n",
        "def greedy_decode(model, z, vocab, max_len=50):\n",
        "    \n",
        "    # Disable dropout.\n",
        "    model.eval()\n",
        "    \n",
        "    # Don't compute gradients.\n",
        "    with torch.no_grad():\n",
        "        batch_size = z.size(0)\n",
        "        \n",
        "        # We feed the model the start-of-sentence symbol at the first time step.\n",
        "        prev_x = torch.ones(batch_size, 1, dtype=torch.long).fill_(vocab[SOS_TOKEN]).to(z.device)\n",
        "        \n",
        "        # Initialize the hidden state from z.\n",
        "        hidden = model.init_hidden(z)\n",
        "\n",
        "        predictions = []    \n",
        "        for t in range(max_len):\n",
        "            scores, hidden = model.step(prev_x, z, hidden)\n",
        "            \n",
        "            # Choose the argmax of the unnnormalized probabilities as the\n",
        "            # prediction for this time step.\n",
        "            prediction = torch.argmax(scores, dim=-1)\n",
        "            predictions.append(prediction)\n",
        "            \n",
        "            prev_x = prediction.view(batch_size, 1)\n",
        "            \n",
        "        return torch.cat(predictions, dim=1)"
      ],
      "execution_count": 0,
      "outputs": []
    },
    {
      "metadata": {
        "id": "GERuGgChScSE",
        "colab_type": "text"
      },
      "cell_type": "markdown",
      "source": [
        "# Training\n",
        "\n",
        "Now it's time to train the model. We use early stopping on the validation perplexity for model selection."
      ]
    },
    {
      "metadata": {
        "id": "XH6ocHxaScSF",
        "colab_type": "code",
        "colab": {},
        "outputId": "f9b68af0-118a-4f0a-f517-9de5e9361793"
      },
      "cell_type": "code",
      "source": [
        "# Define the model hyperparameters.\n",
        "emb_size = 256\n",
        "hidden_size = 256 \n",
        "latent_size = 16\n",
        "bidirectional_encoder = True\n",
        "free_nats = 0.\n",
        "annealing_steps = 5600\n",
        "dropout = 0.6\n",
        "word_dropout = 0.75\n",
        "batch_size = 64\n",
        "learning_rate = 0.001\n",
        "num_epochs = 10\n",
        "n_importance_samples = 50\n",
        "device = torch.device(\"cuda:0\") if torch.cuda.is_available() else torch.device(\"cpu\")   \n",
        "\n",
        "# Create the training data loader.\n",
        "dl = DataLoader(train_dataset, batch_size=batch_size, shuffle=True)\n",
        "sorted_dl = SortingTextDataLoader(dl)\n",
        "\n",
        "# Create the model.\n",
        "model = BowmanLM(vocab_size=vocab.size(), \n",
        "                  emb_size=emb_size, \n",
        "                  hidden_size=hidden_size, \n",
        "                  latent_size=latent_size, \n",
        "                  pad_idx=vocab[PAD_TOKEN],\n",
        "                  dropout=dropout,\n",
        "                  bidirectional=bidirectional_encoder)\n",
        "model = model.to(device)\n",
        "\n",
        "# Create the optimizer.\n",
        "optimizer = optim.Adam(model.parameters(), lr=learning_rate)\n",
        "\n",
        "# Save the best model (early stopping).\n",
        "best_model = \"./best_model.pt\"\n",
        "best_val_ppl = float(\"inf\")\n",
        "best_epoch = 0\n",
        "\n",
        "# Keep track of some statistics to plot later.\n",
        "train_ELBOs = []\n",
        "train_KLs = []\n",
        "val_ELBOs = []\n",
        "val_KLs = []\n",
        "val_perplexities = []\n",
        "val_NLLs = []\n",
        "\n",
        "step = 0\n",
        "training_ELBO = 0.\n",
        "training_KL = 0.\n",
        "num_batches = 0\n",
        "for epoch_num in range(1, num_epochs+1):    \n",
        "    for sentences in sorted_dl:\n",
        "\n",
        "        # Make sure the model is in training mode (for dropout).\n",
        "        model.train()\n",
        "\n",
        "        # Transform the sentences to input, output, seq_len, seq_mask batches.\n",
        "        x_in, x_out, seq_mask, seq_len = create_batch(sentences, vocab, device,\n",
        "                                                      word_dropout=word_dropout)\n",
        "\n",
        "        # Compute the multiplier for the KL term if we do annealing.\n",
        "        if annealing_steps > 0:\n",
        "            KL_weight = min(1., (1.0 / annealing_steps) * step)\n",
        "        else:\n",
        "            KL_weight = 1.\n",
        "        \n",
        "        # Do a forward pass through the model and compute the training loss. We use\n",
        "        # a reparameterized sample from the approximate posterior during training.\n",
        "        qz = model.infer(x_in, seq_mask, seq_len)\n",
        "        pz = Normal(torch.zeros_like(qz.mean), \n",
        "                    torch.ones_like(qz.stddev))\n",
        "        z = qz.rsample()\n",
        "        scores = model(x_in, z)\n",
        "        rec_loss, KL = model.loss(scores, x_out, pz, qz, free_nats=free_nats)\n",
        "        loss = rec_loss + KL_weight * KL\n",
        "\n",
        "        # Backpropagate and update the model weights.\n",
        "        loss.backward()\n",
        "        optimizer.step()\n",
        "        optimizer.zero_grad()\n",
        "\n",
        "        # Update some statistics to track for the training loss.\n",
        "        training_ELBO += -(rec_loss - KL)\n",
        "        training_KL += KL\n",
        "        num_batches += 1\n",
        "        \n",
        "        # Every 100 steps we evaluate the model and report progress.\n",
        "        if step % 100 == 0:\n",
        "            val_rec_loss, val_KL = eval_elbo(model, val_dataset, vocab, device)\n",
        "            val_ELBO = -(val_rec_loss - val_KL)\n",
        "            print(\"(%d) step %d: training ELBO (KL) = %.2f (%.2f) --\"\n",
        "                  \" KL weight = %.2f --\"\n",
        "                  \" validation ELBO (KL) = %.2f (%.2f)\" % \n",
        "                  (epoch_num, step, training_ELBO/num_batches, \n",
        "                   training_KL/num_batches, KL_weight, val_ELBO, val_KL))\n",
        "            \n",
        "            # Update some statistics for plotting later.\n",
        "            train_ELBOs.append((step, (training_ELBO/num_batches).item()))\n",
        "            train_KLs.append((step, (training_KL/num_batches).item()))\n",
        "            val_ELBOs.append((step, val_ELBO.item()))\n",
        "            val_KLs.append((step, val_KL.item()))\n",
        "            \n",
        "            # Reset the training statistics.\n",
        "            training_ELBO = 0.\n",
        "            training_KL = 0.\n",
        "            num_batches = 0\n",
        "            \n",
        "        step += 1\n",
        "\n",
        "    # After an epoch we'll compute validation perplexity and save the model\n",
        "    # for early stopping if it's better than previous models.\n",
        "    print(\"Finished epoch %d\" % (epoch_num))\n",
        "    val_perplexity, val_NLL = eval_perplexity(model, val_dataset, vocab, device, \n",
        "                                              n_importance_samples)\n",
        "    val_rec_loss, val_KL = eval_elbo(model, val_dataset, vocab, device)\n",
        "    val_ELBO = -(val_rec_loss - val_KL)\n",
        "    \n",
        "    # Keep track of the validation perplexities / NLL.\n",
        "    val_perplexities.append((epoch_num, val_perplexity.item()))\n",
        "    val_NLLs.append((epoch_num, val_NLL.item()))\n",
        "    \n",
        "    # If validation perplexity is better, store this model for early stopping.\n",
        "    if val_perplexity < best_val_ppl:\n",
        "        best_val_ppl = val_perplexity\n",
        "        best_epoch = epoch_num\n",
        "        torch.save(model.state_dict(), best_model)\n",
        "        \n",
        "    # Print epoch statistics.\n",
        "    print(\"Evaluation epoch %d:\\n\"\n",
        "          \" - validation perplexity: %.2f\\n\"\n",
        "          \" - validation NLL: %.2f\\n\"\n",
        "          \" - validation ELBO (KL) = %.2f (%.2f)\"\n",
        "          % (epoch_num, val_perplexity, val_NLL, val_ELBO, val_KL))\n",
        "\n",
        "    # Also show some qualitative results by reconstructing a sentence from the\n",
        "    # validation data. Use the mean of the approximate posterior and greedy\n",
        "    # decoding.\n",
        "    random_sentence = val_dataset[np.random.choice(len(val_dataset))]\n",
        "    x_in, _, seq_mask, seq_len = create_batch([random_sentence], vocab, device)\n",
        "    qz = model.infer(x_in, seq_mask, seq_len)\n",
        "    z = qz.mean\n",
        "    reconstruction = greedy_decode(model, z, vocab)\n",
        "    reconstruction = batch_to_sentences(reconstruction, vocab)[0]\n",
        "    print(\"-- Original sentence: \\\"%s\\\"\" % random_sentence)\n",
        "    print(\"-- Model reconstruction: \\\"%s\\\"\" % reconstruction)"
      ],
      "execution_count": 0,
      "outputs": [
        {
          "output_type": "stream",
          "text": [
            "(1) step 0: training ELBO (KL) = -225.00 (1.96) -- KL weight = 0.00 -- validation ELBO (KL) = -227.45 (2.16)\n",
            "(1) step 100: training ELBO (KL) = -141.31 (37.53) -- KL weight = 0.02 -- validation ELBO (KL) = -147.79 (8.30)\n",
            "(1) step 200: training ELBO (KL) = -152.53 (7.16) -- KL weight = 0.04 -- validation ELBO (KL) = -146.99 (5.53)\n",
            "(1) step 300: training ELBO (KL) = -151.14 (5.15) -- KL weight = 0.05 -- validation ELBO (KL) = -143.93 (5.68)\n",
            "(1) step 400: training ELBO (KL) = -148.81 (5.50) -- KL weight = 0.07 -- validation ELBO (KL) = -142.17 (5.06)\n",
            "(1) step 500: training ELBO (KL) = -146.67 (5.79) -- KL weight = 0.09 -- validation ELBO (KL) = -139.92 (5.43)\n",
            "(1) step 600: training ELBO (KL) = -145.52 (6.14) -- KL weight = 0.11 -- validation ELBO (KL) = -137.78 (5.89)\n",
            "Finished epoch 1\n",
            "Evaluation epoch 1:\n",
            " - validation perplexity: 944.06\n",
            " - validation NLL: 146.80\n",
            " - validation ELBO (KL) = -137.14 (6.07)\n",
            "-- Original sentence: \"James A. White and Sonja Steptoe contributed to this article\"\n",
            "-- Model reconstruction: \"An 's company 's the company 's the company 's the company 's the company 's\"\n",
            "(2) step 700: training ELBO (KL) = -142.31 (6.16) -- KL weight = 0.12 -- validation ELBO (KL) = -136.21 (6.22)\n",
            "(2) step 800: training ELBO (KL) = -141.06 (6.29) -- KL weight = 0.14 -- validation ELBO (KL) = -135.10 (6.06)\n",
            "(2) step 900: training ELBO (KL) = -139.68 (6.23) -- KL weight = 0.16 -- validation ELBO (KL) = -133.89 (6.03)\n",
            "(2) step 1000: training ELBO (KL) = -139.16 (6.24) -- KL weight = 0.18 -- validation ELBO (KL) = -132.51 (6.29)\n",
            "(2) step 1100: training ELBO (KL) = -137.52 (6.24) -- KL weight = 0.20 -- validation ELBO (KL) = -131.78 (5.99)\n",
            "(2) step 1200: training ELBO (KL) = -138.60 (6.19) -- KL weight = 0.21 -- validation ELBO (KL) = -130.44 (6.56)\n",
            "Finished epoch 2\n",
            "Evaluation epoch 2:\n",
            " - validation perplexity: 715.37\n",
            " - validation NLL: 140.86\n",
            " - validation ELBO (KL) = -130.81 (5.89)\n",
            "-- Original sentence: \"Such agency self-help borrowing is unauthorized and expensive far more expensive than direct Treasury borrowing said Rep. Fortney Stark D. Calif. the bill 's chief sponsor\"\n",
            "-- Model reconstruction: \"An U.S. and the company 's the company 's the company 's the company 's the company 's company 's a share of the company 's company 's company 's company 's a share\"\n",
            "(3) step 1300: training ELBO (KL) = -136.13 (6.13) -- KL weight = 0.23 -- validation ELBO (KL) = -129.86 (6.16)\n",
            "(3) step 1400: training ELBO (KL) = -134.69 (6.06) -- KL weight = 0.25 -- validation ELBO (KL) = -129.78 (5.78)\n",
            "(3) step 1500: training ELBO (KL) = -136.03 (6.06) -- KL weight = 0.27 -- validation ELBO (KL) = -128.95 (5.88)\n",
            "(3) step 1600: training ELBO (KL) = -133.77 (5.89) -- KL weight = 0.29 -- validation ELBO (KL) = -128.43 (6.02)\n",
            "(3) step 1700: training ELBO (KL) = -134.03 (5.85) -- KL weight = 0.30 -- validation ELBO (KL) = -128.45 (5.44)\n",
            "(3) step 1800: training ELBO (KL) = -134.17 (5.75) -- KL weight = 0.32 -- validation ELBO (KL) = -127.59 (5.84)\n",
            "Finished epoch 3\n",
            "Evaluation epoch 3:\n",
            " - validation perplexity: 602.25\n",
            " - validation NLL: 137.17\n",
            " - validation ELBO (KL) = -127.29 (5.61)\n",
            "-- Original sentence: \"Frank Tremdine\"\n",
            "-- Model reconstruction: \"Fees\"\n",
            "(4) step 1900: training ELBO (KL) = -134.20 (5.71) -- KL weight = 0.34 -- validation ELBO (KL) = -126.99 (5.76)\n",
            "(4) step 2000: training ELBO (KL) = -131.95 (5.63) -- KL weight = 0.36 -- validation ELBO (KL) = -127.19 (5.29)\n",
            "(4) step 2100: training ELBO (KL) = -131.05 (5.56) -- KL weight = 0.38 -- validation ELBO (KL) = -126.74 (5.31)\n",
            "(4) step 2200: training ELBO (KL) = -130.80 (5.45) -- KL weight = 0.39 -- validation ELBO (KL) = -125.90 (5.62)\n",
            "(4) step 2300: training ELBO (KL) = -132.88 (5.49) -- KL weight = 0.41 -- validation ELBO (KL) = -126.27 (5.09)\n",
            "(4) step 2400: training ELBO (KL) = -132.41 (5.35) -- KL weight = 0.43 -- validation ELBO (KL) = -125.85 (5.14)\n",
            "Finished epoch 4\n",
            "Evaluation epoch 4:\n",
            " - validation perplexity: 535.67\n",
            " - validation NLL: 134.66\n",
            " - validation ELBO (KL) = -125.73 (5.02)\n",
            "-- Original sentence: \"For the third year in a row consumers voted Bill Cosby first and James Garner second in persuasiveness as spokesmen in TV commercials according to Video Storyboard Tests New York\"\n",
            "-- Model reconstruction: \"For the nine months of the company 's largest company 's largest company 's largest company said it was n't disclosed to be a share in the U.S. and the company 's stock\"\n",
            "(5) step 2500: training ELBO (KL) = -131.23 (5.29) -- KL weight = 0.45 -- validation ELBO (KL) = -125.49 (5.21)\n",
            "(5) step 2600: training ELBO (KL) = -129.94 (5.27) -- KL weight = 0.46 -- validation ELBO (KL) = -125.52 (4.94)\n",
            "(5) step 2700: training ELBO (KL) = -130.10 (5.23) -- KL weight = 0.48 -- validation ELBO (KL) = -124.69 (5.39)\n",
            "(5) step 2800: training ELBO (KL) = -130.64 (5.22) -- KL weight = 0.50 -- validation ELBO (KL) = -124.88 (5.10)\n",
            "(5) step 2900: training ELBO (KL) = -127.83 (5.06) -- KL weight = 0.52 -- validation ELBO (KL) = -124.89 (4.85)\n",
            "(5) step 3000: training ELBO (KL) = -129.89 (5.01) -- KL weight = 0.54 -- validation ELBO (KL) = -124.44 (4.95)\n",
            "(5) step 3100: training ELBO (KL) = -129.83 (4.96) -- KL weight = 0.55 -- validation ELBO (KL) = -124.13 (5.06)\n",
            "Finished epoch 5\n",
            "Evaluation epoch 5:\n",
            " - validation perplexity: 496.90\n",
            " - validation NLL: 133.05\n",
            " - validation ELBO (KL) = -124.52 (4.75)\n",
            "-- Original sentence: \"Partisans of the two combatants sat side by side in the 49,000-plus seats of Oakland Coliseum and while they cheered favorites and booed the opposition hostilities advanced no further at least as far as I could see\"\n",
            "-- Model reconstruction: \"According to the company 's largest company 's largest company said it expects to be a share in the U.S. and the company 's largest stock market and the company 's largest company 's largest stock\"\n",
            "(6) step 3200: training ELBO (KL) = -127.23 (4.95) -- KL weight = 0.57 -- validation ELBO (KL) = -124.43 (4.78)\n",
            "(6) step 3300: training ELBO (KL) = -127.83 (4.87) -- KL weight = 0.59 -- validation ELBO (KL) = -124.07 (4.84)\n",
            "(6) step 3400: training ELBO (KL) = -129.32 (4.77) -- KL weight = 0.61 -- validation ELBO (KL) = -123.97 (4.73)\n",
            "(6) step 3500: training ELBO (KL) = -127.44 (4.71) -- KL weight = 0.62 -- validation ELBO (KL) = -123.98 (4.49)\n",
            "(6) step 3600: training ELBO (KL) = -129.94 (4.70) -- KL weight = 0.64 -- validation ELBO (KL) = -124.00 (4.47)\n",
            "(6) step 3700: training ELBO (KL) = -127.64 (4.54) -- KL weight = 0.66 -- validation ELBO (KL) = -123.83 (4.41)\n",
            "Finished epoch 6\n",
            "Evaluation epoch 6:\n",
            " - validation perplexity: 469.09\n",
            " - validation NLL: 131.81\n",
            " - validation ELBO (KL) = -124.16 (4.23)\n",
            "-- Original sentence: \"So what if Steinbach had struck just seven home runs in 130 regular-season games and batted in the seventh position of the A 's lineup\"\n",
            "-- Model reconstruction: \"So far the company 's largest company said it will be sold to be a share in the third quarter ended Sept. 30 % to yield million from 1.03 million or 1.02 cents a share\"\n",
            "(7) step 3800: training ELBO (KL) = -126.94 (4.49) -- KL weight = 0.68 -- validation ELBO (KL) = -124.13 (4.24)\n",
            "(7) step 3900: training ELBO (KL) = -129.05 (4.39) -- KL weight = 0.70 -- validation ELBO (KL) = -123.96 (4.19)\n",
            "(7) step 4000: training ELBO (KL) = -127.66 (4.34) -- KL weight = 0.71 -- validation ELBO (KL) = -123.74 (4.29)\n",
            "(7) step 4100: training ELBO (KL) = -125.52 (4.28) -- KL weight = 0.73 -- validation ELBO (KL) = -123.66 (4.20)\n",
            "(7) step 4200: training ELBO (KL) = -125.75 (4.19) -- KL weight = 0.75 -- validation ELBO (KL) = -123.58 (4.20)\n",
            "(7) step 4300: training ELBO (KL) = -127.92 (4.11) -- KL weight = 0.77 -- validation ELBO (KL) = -124.06 (3.85)\n",
            "Finished epoch 7\n",
            "Evaluation epoch 7:\n",
            " - validation perplexity: 448.89\n",
            " - validation NLL: 130.87\n",
            " - validation ELBO (KL) = -123.76 (4.00)\n",
            "-- Original sentence: \"The bill would allow the secretary to reject a buy-out if sufficient information has n't been provided or if the buy-out is likely to weaken the carrier financially result in a substantial reduction in size of the airline through disposal of assets or give control to a foreign interest\"\n",
            "-- Model reconstruction: \"The company said it was a new company for the first quarter of the company 's largest stock market and the company 's largest company said it was n't disclosed to be a new company for the company 's largest stock market\"\n"
          ],
          "name": "stdout"
        },
        {
          "output_type": "stream",
          "text": [
            "(8) step 4400: training ELBO (KL) = -126.30 (3.98) -- KL weight = 0.79 -- validation ELBO (KL) = -124.19 (3.89)\n",
            "(8) step 4500: training ELBO (KL) = -126.33 (3.92) -- KL weight = 0.80 -- validation ELBO (KL) = -123.69 (3.83)\n",
            "(8) step 4600: training ELBO (KL) = -125.48 (3.85) -- KL weight = 0.82 -- validation ELBO (KL) = -124.16 (3.67)\n",
            "(8) step 4700: training ELBO (KL) = -126.25 (3.76) -- KL weight = 0.84 -- validation ELBO (KL) = -123.68 (3.68)\n",
            "(8) step 4800: training ELBO (KL) = -126.82 (3.70) -- KL weight = 0.86 -- validation ELBO (KL) = -123.87 (3.56)\n",
            "(8) step 4900: training ELBO (KL) = -126.68 (3.58) -- KL weight = 0.88 -- validation ELBO (KL) = -123.70 (3.58)\n",
            "Finished epoch 8\n",
            "Evaluation epoch 8:\n",
            " - validation perplexity: 430.23\n",
            " - validation NLL: 129.96\n",
            " - validation ELBO (KL) = -123.55 (3.52)\n",
            "-- Original sentence: \"Sales climbed to an estimated 245 million in fiscal 1989 ended Aug. 31 from 99.9 million in fiscal 1985\"\n",
            "-- Model reconstruction: \"The company said it expects to be a share in the third quarter\"\n",
            "(9) step 5000: training ELBO (KL) = -127.50 (3.48) -- KL weight = 0.89 -- validation ELBO (KL) = -123.99 (3.37)\n",
            "(9) step 5100: training ELBO (KL) = -125.34 (3.42) -- KL weight = 0.91 -- validation ELBO (KL) = -123.79 (3.43)\n",
            "(9) step 5200: training ELBO (KL) = -125.32 (3.41) -- KL weight = 0.93 -- validation ELBO (KL) = -123.97 (3.23)\n",
            "(9) step 5300: training ELBO (KL) = -126.44 (3.23) -- KL weight = 0.95 -- validation ELBO (KL) = -123.90 (3.31)\n",
            "(9) step 5400: training ELBO (KL) = -127.45 (3.12) -- KL weight = 0.96 -- validation ELBO (KL) = -124.60 (2.88)\n",
            "(9) step 5500: training ELBO (KL) = -126.23 (3.01) -- KL weight = 0.98 -- validation ELBO (KL) = -124.40 (2.88)\n",
            "(9) step 5600: training ELBO (KL) = -125.90 (2.88) -- KL weight = 1.00 -- validation ELBO (KL) = -124.14 (2.93)\n",
            "Finished epoch 9\n",
            "Evaluation epoch 9:\n",
            " - validation perplexity: 418.01\n",
            " - validation NLL: 129.34\n",
            " - validation ELBO (KL) = -124.17 (2.85)\n",
            "-- Original sentence: \"On the screens only two forlorn blue figures remained but the index had recovered a few points and was off about 140\"\n",
            "-- Model reconstruction: \"On the nine months ended Sept. 30 % to yield billion from 1.18 million or 1.03 a share from discontinued million or 1.03 a share from discontinued million or 1.03 a share a year earlier\"\n",
            "(10) step 5700: training ELBO (KL) = -125.42 (2.81) -- KL weight = 1.00 -- validation ELBO (KL) = -124.52 (2.78)\n",
            "(10) step 5800: training ELBO (KL) = -125.72 (2.74) -- KL weight = 1.00 -- validation ELBO (KL) = -124.64 (2.64)\n",
            "(10) step 5900: training ELBO (KL) = -124.87 (2.67) -- KL weight = 1.00 -- validation ELBO (KL) = -124.97 (2.51)\n",
            "(10) step 6000: training ELBO (KL) = -126.58 (2.70) -- KL weight = 1.00 -- validation ELBO (KL) = -124.72 (2.53)\n",
            "(10) step 6100: training ELBO (KL) = -126.10 (2.59) -- KL weight = 1.00 -- validation ELBO (KL) = -124.48 (2.56)\n",
            "(10) step 6200: training ELBO (KL) = -125.40 (2.58) -- KL weight = 1.00 -- validation ELBO (KL) = -124.48 (2.58)\n",
            "Finished epoch 10\n",
            "Evaluation epoch 10:\n",
            " - validation perplexity: 409.64\n",
            " - validation NLL: 128.91\n",
            " - validation ELBO (KL) = -124.31 (2.59)\n",
            "-- Original sentence: \"However Maxus said it believes the reserves in the field are about 10 million barrels of oil\"\n",
            "-- Model reconstruction: \"Some analysts say the company 's largest stock market is n't disclosed\"\n"
          ],
          "name": "stdout"
        }
      ]
    },
    {
      "metadata": {
        "id": "h2GpYHvqScSK",
        "colab_type": "text"
      },
      "cell_type": "markdown",
      "source": [
        "# Let's plot the training and validation statistics:"
      ]
    },
    {
      "metadata": {
        "id": "IYnp8E4MScSL",
        "colab_type": "code",
        "colab": {},
        "outputId": "1c71f579-d341-466e-b711-b943768b33bb"
      },
      "cell_type": "code",
      "source": [
        "steps, training_ELBO = list(zip(*train_ELBOs))\n",
        "_, training_KL = list(zip(*train_KLs))\n",
        "_, val_ELBO = list(zip(*val_ELBOs))\n",
        "_, val_KL = list(zip(*val_KLs))\n",
        "epochs, val_ppl = list(zip(*val_perplexities))\n",
        "_, val_NLL = list(zip(*val_NLLs))\n",
        "\n",
        "fig, (ax1, ax2) = plt.subplots(1, 2, figsize=(18, 5))\n",
        "\n",
        "# Plot training ELBO and KL\n",
        "ax1.set_title(\"Training ELBO\")\n",
        "ax1.plot(steps, training_ELBO, \"-o\")\n",
        "ax2.set_title(\"Training KL\")\n",
        "ax2.plot(steps, training_KL, \"-o\")\n",
        "plt.show()\n",
        "\n",
        "# Plot validation ELBO and KL\n",
        "fig, (ax1, ax2) = plt.subplots(1, 2, figsize=(18, 5))\n",
        "ax1.set_title(\"Validation ELBO\")\n",
        "ax1.plot(steps, val_ELBO, \"-o\", color=\"orange\")\n",
        "ax2.set_title(\"Validation KL\")\n",
        "ax2.plot(steps, val_KL, \"-o\",  color=\"orange\")\n",
        "plt.show()\n",
        "\n",
        "# Plot validation perplexities.\n",
        "fig, (ax1, ax2) = plt.subplots(1, 2, figsize=(18, 5))\n",
        "ax1.set_title(\"Validation perplexity\")\n",
        "ax1.plot(epochs, val_ppl, \"-o\", color=\"orange\")\n",
        "ax2.set_title(\"Validation NLL\")\n",
        "ax2.plot(epochs, val_NLL, \"-o\",  color=\"orange\")\n",
        "plt.show()\n",
        "print()"
      ],
      "execution_count": 0,
      "outputs": [
        {
          "output_type": "display_data",
          "data": {
            "image/png": "[encoded data removed]",
            "text/plain": [
              "<Figure size 1296x360 with 2 Axes>"
            ]
          },
          "metadata": {
            "tags": [],
            "needs_background": "light"
          }
        },
        {
          "output_type": "display_data",
          "data": {
            "image/png": "[encoded data removed]",
            "text/plain": [
              "<Figure size 1296x360 with 2 Axes>"
            ]
          },
          "metadata": {
            "tags": [],
            "needs_background": "light"
          }
        },
        {
          "output_type": "display_data",
          "data": {
            "image/png": "[encoded data removed]",
            "text/plain": [
              "<Figure size 1296x360 with 2 Axes>"
            ]
          },
          "metadata": {
            "tags": [],
            "needs_background": "light"
          }
        },
        {
          "output_type": "stream",
          "text": [
            "\n"
          ],
          "name": "stdout"
        }
      ]
    },
    {
      "metadata": {
        "id": "AF4L6yyKScSP",
        "colab_type": "text"
      },
      "cell_type": "markdown",
      "source": [
        "Let's load the best model according to validation perplexity and compute its perplexity on the test data:"
      ]
    },
    {
      "metadata": {
        "id": "K25svlmSScSQ",
        "colab_type": "code",
        "colab": {},
        "outputId": "013d604e-a3d4-41bd-d33e-b02ca9c27b5f"
      },
      "cell_type": "code",
      "source": [
        "# Load the best model from disk.\n",
        "model = BowmanLM(vocab_size=vocab.size(), \n",
        "                 emb_size=emb_size, \n",
        "                 hidden_size=hidden_size, \n",
        "                 latent_size=latent_size, \n",
        "                 pad_idx=vocab[PAD_TOKEN],\n",
        "                 dropout=dropout,\n",
        "                 bidirectional=bidirectional_encoder)\n",
        "model.load_state_dict(torch.load(best_model))\n",
        "model = model.to(device)\n",
        "\n",
        "# Compute test perplexity and ELBO.\n",
        "test_perplexity, test_NLL = eval_perplexity(model, test_dataset, vocab, \n",
        "                                            device, n_importance_samples)\n",
        "test_rec_loss, test_KL = eval_elbo(model, test_dataset, vocab, device)\n",
        "test_ELBO = test_rec_loss - test_KL\n",
        "print(\"test ELBO (KL) = %.2f (%.2f) -- test perplexity = %.2f -- test NLL = %.2f\" % \n",
        "      (test_ELBO, test_KL, test_perplexity, test_NLL))"
      ],
      "execution_count": 0,
      "outputs": [
        {
          "output_type": "stream",
          "text": [
            "test ELBO (KL) = 123.12 (2.63) -- test perplexity = 414.65 -- test NLL = 127.87\n"
          ],
          "name": "stdout"
        }
      ]
    },
    {
      "metadata": {
        "id": "DlxoPIa_ScSS",
        "colab_type": "text"
      },
      "cell_type": "markdown",
      "source": [
        "# Qualitative analysis\n",
        "\n",
        "Let's have a look at what how our trained model interacts with the learned latent space. First let's greedily decode some samples from the prior to assess the diversity of the model:"
      ]
    },
    {
      "metadata": {
        "id": "1x9siL9aScST",
        "colab_type": "code",
        "colab": {},
        "outputId": "1b6f68e3-b0b3-41f8-f3e7-cc34407a58e8"
      },
      "cell_type": "code",
      "source": [
        "# Generate 10 samples from the standard normal prior.\n",
        "num_prior_samples = 10\n",
        "pz = Normal(torch.zeros(num_prior_samples, latent_size), \n",
        "            torch.ones(num_prior_samples, latent_size))\n",
        "z = pz.sample()\n",
        "z = z.to(device)\n",
        "\n",
        "# Use the greedy decoding algorithm to generate sentences.\n",
        "predictions = greedy_decode(model, z, vocab)\n",
        "predictions = batch_to_sentences(predictions, vocab)\n",
        "for num, prediction in enumerate(predictions):\n",
        "    print(\"%d: %s\" % (num+1, prediction))"
      ],
      "execution_count": 0,
      "outputs": [
        {
          "output_type": "stream",
          "text": [
            "1: The company said it expects to be a new company in the U.S. and the company 's largest largest company\n",
            "2: The company said it expects to be a share in the third quarter\n",
            "3: It 's a lot of the U.S. and the company 's largest market and the company 's largest market\n",
            "4: The company said it will be sold by the company 's largest largest company and the company 's largest largest company said it expects to be a loss of the company 's largest stock market\n",
            "5: The company said it expects to be a share in the third quarter\n",
            "6: One of the company 's largest largest company said it expects to be a share\n",
            "7: The company said it expects to be a share\n",
            "8: The company said it will be sold by the company 's largest largest company and the company 's largest largest company said it expects to be a loss of the company 's largest stock market\n",
            "9: The company said it expects to be a share in the third quarter\n",
            "10: Some analysts say the company 's largest stock market\n"
          ],
          "name": "stdout"
        }
      ]
    },
    {
      "metadata": {
        "id": "O7T4hLydScSV",
        "colab_type": "text"
      },
      "cell_type": "markdown",
      "source": [
        "Let's now have a look how good the model is at reconstructing sentences from the test dataset using the approximate posterior mean and a couple of samples:"
      ]
    },
    {
      "metadata": {
        "id": "6fi-g4ASScSW",
        "colab_type": "code",
        "colab": {},
        "outputId": "9ba5ba89-3227-44b4-8142-52f5c610509d"
      },
      "cell_type": "code",
      "source": [
        "# Pick a random test sentence.\n",
        "test_sentence = test_dataset[np.random.choice(len(test_dataset))]\n",
        "\n",
        "# Infer q(z|x).\n",
        "x_in, _, seq_mask, seq_len = create_batch([test_sentence], vocab, device)\n",
        "qz = model.infer(x_in, seq_mask, seq_len)\n",
        "\n",
        "# Decode using the mean.\n",
        "z_mean = qz.mean\n",
        "mean_reconstruction = greedy_decode(model, z_mean, vocab)\n",
        "mean_reconstruction = batch_to_sentences(mean_reconstruction, vocab)[0]\n",
        "\n",
        "print(\"Original: \\\"%s\\\"\" % test_sentence)\n",
        "print(\"Posterior mean reconstruction: \\\"%s\\\"\" % mean_reconstruction)\n",
        "\n",
        "# Decode a couple of samples from the approximate posterior.\n",
        "for s in range(3):\n",
        "    z = qz.sample()\n",
        "    sample_reconstruction = greedy_decode(model, z, vocab)\n",
        "    sample_reconstruction = batch_to_sentences(sample_reconstruction, vocab)[0]\n",
        "    print(\"Posterior sample reconstruction (%d): \\\"%s\\\"\" % (s+1, sample_reconstruction))"
      ],
      "execution_count": 0,
      "outputs": [
        {
          "output_type": "stream",
          "text": [
            "Original: \"To make point it is challenging the Italian government to explain reports that Olivetti may have supplied the Soviet Union with sophisticated computer-driven devices that could be used to build parts for combat aircraft\"\n",
            "Posterior mean reconstruction: \"A spokesman said the company 's largest largest company said it will be sold by the company 's largest largest company and the company 's largest largest company said\"\n",
            "Posterior sample reconstruction (1): \"A spokesman said the company 's largest largest company said it will be sold by the company 's largest largest company and the company 's largest largest company said\"\n",
            "Posterior sample reconstruction (2): \"The company said it will be sold by the company 's largest largest company and the company 's largest largest company said it expects to be a loss of the company 's largest stock market\"\n",
            "Posterior sample reconstruction (3): \"In addition to the U.S. and the company 's largest largest company said it will be sold by the company 's largest largest company and the company 's largest largest company said\"\n"
          ],
          "name": "stdout"
        }
      ]
    },
    {
      "metadata": {
        "id": "fi0THhQ5ScSZ",
        "colab_type": "text"
      },
      "cell_type": "markdown",
      "source": [
        "We can also qualitatively assess the smoothness of the learned latent space by interpolating between two sentences in the test set:"
      ]
    },
    {
      "metadata": {
        "id": "y8Ai6FxnScSZ",
        "colab_type": "code",
        "colab": {},
        "outputId": "0afefe54-14bc-45eb-ac24-a809a4cbd4b3"
      },
      "cell_type": "code",
      "source": [
        "# Pick a random test sentence.\n",
        "test_sentence_1 = test_dataset[np.random.choice(len(test_dataset))]\n",
        "\n",
        "# Infer q(z|x).\n",
        "x_in, _, seq_mask, seq_len = create_batch([test_sentence_1], vocab, device)\n",
        "qz = model.infer(x_in, seq_mask, seq_len)\n",
        "qz_1 = qz.mean\n",
        "\n",
        "# Pick a random second test sentence.\n",
        "test_sentence_2 = test_dataset[np.random.choice(len(test_dataset))]\n",
        "\n",
        "# Infer q(z|x) again.\n",
        "x_in, _, seq_mask, seq_len = create_batch([test_sentence_2], vocab, device)\n",
        "qz = model.infer(x_in, seq_mask, seq_len)\n",
        "qz_2 = qz.mean\n",
        "\n",
        "# Now interpolate between the two means and generate sentences between those.\n",
        "num_sentences = 5\n",
        "print(\"Sentence 1: \\\"%s\\\"\" % test_sentence_1)\n",
        "for alpha in np.linspace(start=0., stop=1., num=num_sentences):\n",
        "    z = (1-alpha) * qz_1 + alpha * qz_2\n",
        "    reconstruction = greedy_decode(model, z, vocab)\n",
        "    reconstruction = batch_to_sentences(reconstruction, vocab)[0]\n",
        "    print(\"(1-%.2f) * qz1.mean + %.2f qz2.mean: \\\"%s\\\"\" % (alpha, alpha, reconstruction))\n",
        "print(\"Sentence 2: \\\"%s\\\"\" % test_sentence_2)"
      ],
      "execution_count": 0,
      "outputs": [
        {
          "output_type": "stream",
          "text": [
            "Sentence 1: \"In recent months a string of cross-border mergers and joint ventures have reshaped the once-balkanized world of European arms manufacture\"\n",
            "(1-0.00) * qz1.mean + 0.00 qz2.mean: \"In addition to the U.S. and the company 's largest stock market is n't disclosed\"\n",
            "(1-0.25) * qz1.mean + 0.25 qz2.mean: \"In the past few years the company 's largest largest company said it was n't disclosed\"\n",
            "(1-0.50) * qz1.mean + 0.50 qz2.mean: \"In the past few years the company 's largest largest company said it was n't disclosed\"\n",
            "(1-0.75) * qz1.mean + 0.75 qz2.mean: \"In the past few years the company 's largest largest company said it was n't disclosed\"\n",
            "(1-1.00) * qz1.mean + 1.00 qz2.mean: \"But the company 's largest largest company said it was n't disclosed to be a good\"\n",
            "Sentence 2: \"If true the court wrote this contention would justify dismissal of these actions on prudential grounds\"\n"
          ],
          "name": "stdout"
        }
      ]
    },
    {
      "metadata": {
        "id": "C_dLVVbiScSd",
        "colab_type": "code",
        "colab": {}
      },
      "cell_type": "code",
      "source": [
        ""
      ],
      "execution_count": 0,
      "outputs": []
    }
  ]
}